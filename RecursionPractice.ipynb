{
 "cells": [
  {
   "cell_type": "markdown",
   "metadata": {},
   "source": [
    "Recursive function = a function that calls itself -\n",
    "\n",
    "is an elegant way to break down complex problems\n",
    "\n",
    "3 Laws of Recursion\n",
    "\n",
    "A recursive  algorithm must\n",
    "    \n",
    "    1. have a base case:  \n",
    "     \n",
    "    2. Change it's state and move towards the base case: \n",
    "\n",
    "    3. call itself, recursively\n",
    "\n"
   ]
  },
  {
   "cell_type": "markdown",
   "metadata": {},
   "source": [
    "A base case is the condition that allows the algorithm to stop recursing.\n",
    "\n",
    "To obey the 2nd law,  we must arrange for a change of state that moves the algorithm to the base case. A change of state refers to the the modification of some data.\n",
    "\n",
    "the last law is that the algorithm will call itself which is the definition of recursion\n"
   ]
  },
  {
   "cell_type": "code",
   "execution_count": 8,
   "metadata": {},
   "outputs": [],
   "source": [
    "import time"
   ]
  },
  {
   "cell_type": "code",
   "execution_count": 9,
   "metadata": {},
   "outputs": [],
   "source": [
    "def fibonacci(indx): #this is without iteration and it is so slow\n",
    "    if indx <=1:\n",
    "        return indx\n",
    "    else:\n",
    "        return fibonacci(indx-1) + fibonacci(indx-2)    "
   ]
  },
  {
   "cell_type": "code",
   "execution_count": 24,
   "metadata": {},
   "outputs": [
    {
     "name": "stdout",
     "output_type": "stream",
     "text": [
      "recursion\n",
      "21\n",
      "recursion time: 0.001215219497680664\n"
     ]
    }
   ],
   "source": [
    "print(\"recursion\")\n",
    "rec = time.time()\n",
    "print(fibonacci(8))\n",
    "print(\"recursion time: \" + str(time.time()-rec))"
   ]
  },
  {
   "cell_type": "code",
   "execution_count": 11,
   "metadata": {},
   "outputs": [
    {
     "name": "stdout",
     "output_type": "stream",
     "text": [
      "5\n"
     ]
    }
   ],
   "source": [
    "print(fibonacci(5))"
   ]
  },
  {
   "cell_type": "code",
   "execution_count": 26,
   "metadata": {},
   "outputs": [],
   "source": [
    "def fibonacci2(indx): #this is with iteration should be faster\n",
    "    seqLst=[0,1]\n",
    "    for i in range(2,indx+1):\n",
    "        seqLst.append(seqLst[i-1]+seqLst[i-2])\n",
    "    return seqLst[indx]"
   ]
  },
  {
   "cell_type": "code",
   "execution_count": 27,
   "metadata": {},
   "outputs": [
    {
     "name": "stdout",
     "output_type": "stream",
     "text": [
      "recursion\n",
      "21\n",
      "recursion time: 0.0\n"
     ]
    }
   ],
   "source": [
    "print(\"recursion\")\n",
    "rec = time.time()\n",
    "print(fibonacci2(8))\n",
    "print(\"recursion time: \" + str(time.time()-rec))"
   ]
  },
  {
   "cell_type": "code",
   "execution_count": 28,
   "metadata": {},
   "outputs": [
    {
     "name": "stdout",
     "output_type": "stream",
     "text": [
      "5\n"
     ]
    }
   ],
   "source": [
    "print(fibonacci2(5))"
   ]
  },
  {
   "cell_type": "markdown",
   "metadata": {},
   "source": [
    "Function without iteration"
   ]
  },
  {
   "cell_type": "code",
   "execution_count": 41,
   "metadata": {},
   "outputs": [],
   "source": [
    "def factorial(facNum):\n",
    "    if facNum < 0:\n",
    "        return -1\n",
    "    elif facNum < 2:\n",
    "        return 1\n",
    "    else:\n",
    "        return facNum * factorial(facNum-1)\n",
    "    "
   ]
  },
  {
   "cell_type": "code",
   "execution_count": 58,
   "metadata": {},
   "outputs": [
    {
     "name": "stdout",
     "output_type": "stream",
     "text": [
      "24\n"
     ]
    }
   ],
   "source": [
    "print(factorial(4))"
   ]
  },
  {
   "cell_type": "code",
   "execution_count": 54,
   "metadata": {},
   "outputs": [
    {
     "name": "stdout",
     "output_type": "stream",
     "text": [
      "362880\n"
     ]
    }
   ],
   "source": [
    "print(factorial(9))"
   ]
  },
  {
   "cell_type": "markdown",
   "metadata": {},
   "source": [
    "Function that Finds Factorial with Iteration"
   ]
  },
  {
   "cell_type": "code",
   "execution_count": 56,
   "metadata": {},
   "outputs": [],
   "source": [
    "def factorial2(facNum):\n",
    "    if facNum < 0:\n",
    "        return -1\n",
    "    else:\n",
    "        fact = 1\n",
    "        for i in range(1,facNum+1):\n",
    "            fact *= i\n",
    "        return fact\n",
    "    "
   ]
  },
  {
   "cell_type": "code",
   "execution_count": 57,
   "metadata": {},
   "outputs": [
    {
     "name": "stdout",
     "output_type": "stream",
     "text": [
      "24\n",
      "362880\n"
     ]
    }
   ],
   "source": [
    "print(factorial2(4))\n",
    "print(factorial2(9))"
   ]
  }
 ],
 "metadata": {
  "kernelspec": {
   "display_name": "base",
   "language": "python",
   "name": "python3"
  },
  "language_info": {
   "codemirror_mode": {
    "name": "ipython",
    "version": 3
   },
   "file_extension": ".py",
   "mimetype": "text/x-python",
   "name": "python",
   "nbconvert_exporter": "python",
   "pygments_lexer": "ipython3",
   "version": "3.11.5"
  }
 },
 "nbformat": 4,
 "nbformat_minor": 2
}
